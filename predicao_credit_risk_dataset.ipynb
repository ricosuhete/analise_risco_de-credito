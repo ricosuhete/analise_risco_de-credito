{
 "cells": [
  {
   "cell_type": "markdown",
   "id": "a03aed20",
   "metadata": {},
   "source": [
    "## Bibliotecas"
   ]
  },
  {
   "cell_type": "code",
   "execution_count": 57,
   "id": "61d07dff",
   "metadata": {},
   "outputs": [],
   "source": [
    "import pickle\n",
    "import matplotlib.pyplot as plt\n",
    "%matplotlib inline\n",
    "\n",
    "from yellowbrick.classifier import ConfusionMatrix\n",
    "from sklearn.metrics import accuracy_score, classification_report\n",
    "\n",
    "from sklearn.naive_bayes import GaussianNB\n",
    "from sklearn.tree import DecisionTreeClassifier \n",
    "from sklearn.ensemble import RandomForestClassifier\n",
    "from sklearn.neighbors import KNeighborsClassifier\n",
    "from sklearn.linear_model import LogisticRegression\n",
    "from sklearn.svm import SVC\n",
    "from sklearn.neural_network import MLPClassifier\n"
   ]
  },
  {
   "cell_type": "markdown",
   "id": "6fd80b05",
   "metadata": {},
   "source": [
    "### Abertura do Arquivo"
   ]
  },
  {
   "cell_type": "code",
   "execution_count": 2,
   "id": "3403e2e7",
   "metadata": {},
   "outputs": [],
   "source": [
    "with open('credit.pkl', 'rb') as f:\n",
    "    X_credit_train, y_credit_train, X_credit_test, y_credit_test = pickle.load(f)"
   ]
  },
  {
   "cell_type": "code",
   "execution_count": 3,
   "id": "e6b4b2b2",
   "metadata": {},
   "outputs": [
    {
     "data": {
      "text/plain": [
       "((24435, 26), (24435,))"
      ]
     },
     "execution_count": 3,
     "metadata": {},
     "output_type": "execute_result"
    }
   ],
   "source": [
    "X_credit_train.shape, y_credit_train.shape"
   ]
  },
  {
   "cell_type": "code",
   "execution_count": 4,
   "id": "2390bbdb",
   "metadata": {},
   "outputs": [
    {
     "data": {
      "text/plain": [
       "((8146, 26), (8146,))"
      ]
     },
     "execution_count": 4,
     "metadata": {},
     "output_type": "execute_result"
    }
   ],
   "source": [
    "X_credit_test.shape, y_credit_test.shape"
   ]
  },
  {
   "cell_type": "markdown",
   "id": "bc93db2d",
   "metadata": {},
   "source": [
    "### Naïve Bayes"
   ]
  },
  {
   "cell_type": "code",
   "execution_count": 5,
   "id": "7ff9f1da",
   "metadata": {},
   "outputs": [
    {
     "data": {
      "text/plain": [
       "GaussianNB()"
      ]
     },
     "execution_count": 5,
     "metadata": {},
     "output_type": "execute_result"
    }
   ],
   "source": [
    "naive_credit = GaussianNB()\n",
    "naive_credit.fit(X_credit_train, y_credit_train)"
   ]
  },
  {
   "cell_type": "code",
   "execution_count": 6,
   "id": "9d37405a",
   "metadata": {},
   "outputs": [],
   "source": [
    "#Remodelando os dados de 1D para 2D\n",
    "y_credit_test = y_credit_test.reshape(-1,1)"
   ]
  },
  {
   "cell_type": "code",
   "execution_count": 7,
   "id": "60415fcc",
   "metadata": {},
   "outputs": [],
   "source": [
    "predicao = naive_credit.predict(X_credit_test)"
   ]
  },
  {
   "cell_type": "code",
   "execution_count": 8,
   "id": "118410f2",
   "metadata": {},
   "outputs": [
    {
     "data": {
      "text/plain": [
       "array([0, 0, 0, ..., 1, 0, 1], dtype=int64)"
      ]
     },
     "execution_count": 8,
     "metadata": {},
     "output_type": "execute_result"
    }
   ],
   "source": [
    "predicao"
   ]
  },
  {
   "cell_type": "code",
   "execution_count": 9,
   "id": "f7dcf71e",
   "metadata": {},
   "outputs": [
    {
     "data": {
      "text/plain": [
       "array([[0, 0, 0, ..., 0, 0, 1]], dtype=int64)"
      ]
     },
     "execution_count": 9,
     "metadata": {},
     "output_type": "execute_result"
    }
   ],
   "source": [
    "y_credit_test.reshape(1,-1)"
   ]
  },
  {
   "cell_type": "code",
   "execution_count": 10,
   "id": "005b8f73",
   "metadata": {},
   "outputs": [],
   "source": [
    "#Acurácia\n",
    "naive_acc = accuracy_score(y_credit_test, predicao)"
   ]
  },
  {
   "cell_type": "code",
   "execution_count": 11,
   "id": "c18fabe3",
   "metadata": {},
   "outputs": [
    {
     "data": {
      "text/plain": [
       "0.8399214338325559"
      ]
     },
     "execution_count": 11,
     "metadata": {},
     "output_type": "execute_result"
    }
   ],
   "source": [
    "naive_acc"
   ]
  },
  {
   "cell_type": "code",
   "execution_count": 12,
   "id": "37a383f7",
   "metadata": {},
   "outputs": [
    {
     "data": {
      "text/plain": [
       "0.8399214338325559"
      ]
     },
     "execution_count": 12,
     "metadata": {},
     "output_type": "execute_result"
    },
    {
     "data": {
      "image/png": "[encoded data removed]",
      "text/plain": [
       "<Figure size 576x396 with 1 Axes>"
      ]
     },
     "metadata": {},
     "output_type": "display_data"
    }
   ],
   "source": [
    "# Matriz de Confusão (YellowBrick)\n",
    "cm = ConfusionMatrix(naive_credit)\n",
    "cm.fit(X_credit_train, y_credit_train)\n",
    "cm.score(X_credit_test, y_credit_test)"
   ]
  },
  {
   "cell_type": "code",
   "execution_count": 13,
   "id": "e9821a87",
   "metadata": {},
   "outputs": [
    {
     "name": "stdout",
     "output_type": "stream",
     "text": [
      "              precision    recall  f1-score   support\n",
      "\n",
      "           0       0.87      0.94      0.90      6482\n",
      "           1       0.65      0.46      0.54      1664\n",
      "\n",
      "    accuracy                           0.84      8146\n",
      "   macro avg       0.76      0.70      0.72      8146\n",
      "weighted avg       0.83      0.84      0.83      8146\n",
      "\n"
     ]
    }
   ],
   "source": [
    "#Relatório de Classificação\n",
    "naive = classification_report(y_credit_test, predicao)\n",
    "print(naive)"
   ]
  },
  {
   "cell_type": "markdown",
   "id": "f54803d4",
   "metadata": {},
   "source": [
    "### Decision Tree"
   ]
  },
  {
   "cell_type": "code",
   "execution_count": 14,
   "id": "bab12446",
   "metadata": {},
   "outputs": [
    {
     "data": {
      "text/plain": [
       "DecisionTreeClassifier(criterion='entropy', random_state=0)"
      ]
     },
     "execution_count": 14,
     "metadata": {},
     "output_type": "execute_result"
    }
   ],
   "source": [
    "tree_credit = DecisionTreeClassifier(criterion='entropy', random_state=0)\n",
    "tree_credit.fit(X_credit_train, y_credit_train)"
   ]
  },
  {
   "cell_type": "code",
   "execution_count": 15,
   "id": "6a10e88c",
   "metadata": {},
   "outputs": [
    {
     "data": {
      "text/plain": [
       "array([0, 0, 0, ..., 1, 0, 1], dtype=int64)"
      ]
     },
     "execution_count": 15,
     "metadata": {},
     "output_type": "execute_result"
    }
   ],
   "source": [
    "predicao = tree_credit.predict(X_credit_test)\n",
    "predicao"
   ]
  },
  {
   "cell_type": "code",
   "execution_count": 16,
   "id": "003bb9dd",
   "metadata": {},
   "outputs": [
    {
     "data": {
      "text/plain": [
       "array([[0, 0, 0, ..., 0, 0, 1]], dtype=int64)"
      ]
     },
     "execution_count": 16,
     "metadata": {},
     "output_type": "execute_result"
    }
   ],
   "source": [
    "y_credit_test.reshape(1, -1)"
   ]
  },
  {
   "cell_type": "code",
   "execution_count": 17,
   "id": "6f5e946c",
   "metadata": {},
   "outputs": [
    {
     "data": {
      "text/plain": [
       "0.8934446354038792"
      ]
     },
     "execution_count": 17,
     "metadata": {},
     "output_type": "execute_result"
    }
   ],
   "source": [
    "#Acurácia\n",
    "tree_acc = accuracy_score(y_credit_test, predicao)\n",
    "tree_acc"
   ]
  },
  {
   "cell_type": "code",
   "execution_count": 18,
   "id": "3bbe553a",
   "metadata": {},
   "outputs": [
    {
     "data": {
      "text/plain": [
       "0.8934446354038792"
      ]
     },
     "execution_count": 18,
     "metadata": {},
     "output_type": "execute_result"
    },
    {
     "data": {
      "image/png": "[encoded data removed]",
      "text/plain": [
       "<Figure size 576x396 with 1 Axes>"
      ]
     },
     "metadata": {},
     "output_type": "display_data"
    }
   ],
   "source": [
    "#Matriz de confusão\n",
    "cm = ConfusionMatrix(tree_credit)\n",
    "cm.fit(X_credit_train, y_credit_train)\n",
    "cm.score(X_credit_test, y_credit_test)"
   ]
  },
  {
   "cell_type": "code",
   "execution_count": 19,
   "id": "6e2fb9c2",
   "metadata": {},
   "outputs": [
    {
     "name": "stdout",
     "output_type": "stream",
     "text": [
      "              precision    recall  f1-score   support\n",
      "\n",
      "           0       0.94      0.93      0.93      6482\n",
      "           1       0.73      0.76      0.74      1664\n",
      "\n",
      "    accuracy                           0.89      8146\n",
      "   macro avg       0.83      0.84      0.84      8146\n",
      "weighted avg       0.89      0.89      0.89      8146\n",
      "\n"
     ]
    }
   ],
   "source": [
    "#Relatório de Classificação\n",
    "tree = classification_report(y_credit_test, predicao)\n",
    "print(tree)"
   ]
  },
  {
   "cell_type": "markdown",
   "id": "7373f7a7",
   "metadata": {},
   "source": [
    "### Random Forest"
   ]
  },
  {
   "cell_type": "code",
   "execution_count": 20,
   "id": "ff0b31e8",
   "metadata": {},
   "outputs": [
    {
     "data": {
      "text/plain": [
       "RandomForestClassifier(criterion='entropy', n_estimators=50, random_state=0)"
      ]
     },
     "execution_count": 20,
     "metadata": {},
     "output_type": "execute_result"
    }
   ],
   "source": [
    "forest_credit = RandomForestClassifier(n_estimators=50, criterion='entropy', random_state=0)\n",
    "forest_credit.fit(X_credit_train, y_credit_train)"
   ]
  },
  {
   "cell_type": "code",
   "execution_count": 21,
   "id": "426276e1",
   "metadata": {},
   "outputs": [
    {
     "data": {
      "text/plain": [
       "array([0, 0, 0, ..., 0, 0, 1], dtype=int64)"
      ]
     },
     "execution_count": 21,
     "metadata": {},
     "output_type": "execute_result"
    }
   ],
   "source": [
    "predicao = forest_credit.predict(X_credit_test)\n",
    "predicao"
   ]
  },
  {
   "cell_type": "code",
   "execution_count": 22,
   "id": "918e9baa",
   "metadata": {},
   "outputs": [
    {
     "data": {
      "text/plain": [
       "array([[0, 0, 0, ..., 0, 0, 1]], dtype=int64)"
      ]
     },
     "execution_count": 22,
     "metadata": {},
     "output_type": "execute_result"
    }
   ],
   "source": [
    "y_credit_test.reshape(1, -1)"
   ]
  },
  {
   "cell_type": "code",
   "execution_count": 23,
   "id": "bad97471",
   "metadata": {},
   "outputs": [
    {
     "data": {
      "text/plain": [
       "0.9330959980358459"
      ]
     },
     "execution_count": 23,
     "metadata": {},
     "output_type": "execute_result"
    }
   ],
   "source": [
    "#Acurácia\n",
    "forest_acc = accuracy_score(y_credit_test, predicao)\n",
    "forest_acc"
   ]
  },
  {
   "cell_type": "code",
   "execution_count": 24,
   "id": "d1a29bed",
   "metadata": {},
   "outputs": [
    {
     "data": {
      "text/plain": [
       "0.9330959980358459"
      ]
     },
     "execution_count": 24,
     "metadata": {},
     "output_type": "execute_result"
    },
    {
     "data": {
      "image/png": "[encoded data removed]",
      "text/plain": [
       "<Figure size 576x396 with 1 Axes>"
      ]
     },
     "metadata": {},
     "output_type": "display_data"
    }
   ],
   "source": [
    "#Matriz de Confusão\n",
    "cm = ConfusionMatrix(forest_credit)\n",
    "cm.fit(X_credit_train, y_credit_train)\n",
    "cm.score(X_credit_test, y_credit_test)"
   ]
  },
  {
   "cell_type": "code",
   "execution_count": 25,
   "id": "05fd4e74",
   "metadata": {},
   "outputs": [
    {
     "name": "stdout",
     "output_type": "stream",
     "text": [
      "              precision    recall  f1-score   support\n",
      "\n",
      "           0       0.93      0.99      0.96      6482\n",
      "           1       0.96      0.70      0.81      1664\n",
      "\n",
      "    accuracy                           0.93      8146\n",
      "   macro avg       0.94      0.85      0.89      8146\n",
      "weighted avg       0.93      0.93      0.93      8146\n",
      "\n"
     ]
    }
   ],
   "source": [
    "#Relatório de Classificação\n",
    "forest = classification_report(y_credit_test, predicao)\n",
    "print(forest)"
   ]
  },
  {
   "cell_type": "markdown",
   "id": "1f2f7c54",
   "metadata": {},
   "source": [
    "### Aprendizagem baseada em instâncias - Knn"
   ]
  },
  {
   "cell_type": "code",
   "execution_count": 27,
   "id": "ee719500",
   "metadata": {},
   "outputs": [
    {
     "data": {
      "text/plain": [
       "KNeighborsClassifier()"
      ]
     },
     "execution_count": 27,
     "metadata": {},
     "output_type": "execute_result"
    }
   ],
   "source": [
    "knn_credit = KNeighborsClassifier()\n",
    "knn_credit.fit(X_credit_train, y_credit_train)"
   ]
  },
  {
   "cell_type": "code",
   "execution_count": 28,
   "id": "4384648e",
   "metadata": {},
   "outputs": [
    {
     "data": {
      "text/plain": [
       "array([0, 0, 0, ..., 0, 0, 0], dtype=int64)"
      ]
     },
     "execution_count": 28,
     "metadata": {},
     "output_type": "execute_result"
    }
   ],
   "source": [
    "predicao = knn_credit.predict(X_credit_test)\n",
    "predicao"
   ]
  },
  {
   "cell_type": "code",
   "execution_count": 29,
   "id": "2843b76b",
   "metadata": {},
   "outputs": [
    {
     "data": {
      "text/plain": [
       "array([[0, 0, 0, ..., 0, 0, 1]], dtype=int64)"
      ]
     },
     "execution_count": 29,
     "metadata": {},
     "output_type": "execute_result"
    }
   ],
   "source": [
    "y_credit_test.reshape(1, -1)"
   ]
  },
  {
   "cell_type": "code",
   "execution_count": 31,
   "id": "0100ab38",
   "metadata": {},
   "outputs": [
    {
     "data": {
      "text/plain": [
       "0.8957770684998773"
      ]
     },
     "execution_count": 31,
     "metadata": {},
     "output_type": "execute_result"
    }
   ],
   "source": [
    "#Acurácia\n",
    "knn_acc = accuracy_score(y_credit_test, predicao)\n",
    "knn_acc"
   ]
  },
  {
   "cell_type": "code",
   "execution_count": 32,
   "id": "b5fdc7bb",
   "metadata": {},
   "outputs": [
    {
     "data": {
      "text/plain": [
       "0.8957770684998773"
      ]
     },
     "execution_count": 32,
     "metadata": {},
     "output_type": "execute_result"
    },
    {
     "data": {
      "image/png": "[encoded data removed]",
      "text/plain": [
       "<Figure size 432x288 with 1 Axes>"
      ]
     },
     "metadata": {
      "needs_background": "light"
     },
     "output_type": "display_data"
    }
   ],
   "source": [
    "#Matriz de Confusão\n",
    "cm = ConfusionMatrix(knn_credit)\n",
    "cm.fit(X_credit_train, y_credit_train)\n",
    "cm.score(X_credit_test, y_credit_test)"
   ]
  },
  {
   "cell_type": "code",
   "execution_count": 33,
   "id": "860a9d82",
   "metadata": {},
   "outputs": [
    {
     "name": "stdout",
     "output_type": "stream",
     "text": [
      "              precision    recall  f1-score   support\n",
      "\n",
      "           0       0.90      0.97      0.94      6482\n",
      "           1       0.85      0.60      0.70      1664\n",
      "\n",
      "    accuracy                           0.90      8146\n",
      "   macro avg       0.87      0.79      0.82      8146\n",
      "weighted avg       0.89      0.90      0.89      8146\n",
      "\n"
     ]
    }
   ],
   "source": [
    "#Relatório de Classificação\n",
    "knn = classification_report(y_credit_test, predicao)\n",
    "print(knn)"
   ]
  },
  {
   "cell_type": "markdown",
   "id": "d170fd02",
   "metadata": {},
   "source": [
    "### Regressão Logística"
   ]
  },
  {
   "cell_type": "code",
   "execution_count": 35,
   "id": "5234275c",
   "metadata": {},
   "outputs": [
    {
     "data": {
      "text/plain": [
       "LogisticRegression(random_state=0)"
      ]
     },
     "execution_count": 35,
     "metadata": {},
     "output_type": "execute_result"
    }
   ],
   "source": [
    "logistic_credit = LogisticRegression(random_state= 0)\n",
    "logistic_credit.fit(X_credit_train, y_credit_train)"
   ]
  },
  {
   "cell_type": "code",
   "execution_count": 36,
   "id": "094e2860",
   "metadata": {},
   "outputs": [
    {
     "data": {
      "text/plain": [
       "array([-1.88554861])"
      ]
     },
     "execution_count": 36,
     "metadata": {},
     "output_type": "execute_result"
    }
   ],
   "source": [
    "logistic_credit.intercept_"
   ]
  },
  {
   "cell_type": "code",
   "execution_count": 37,
   "id": "111ebe6a",
   "metadata": {},
   "outputs": [
    {
     "data": {
      "text/plain": [
       "array([[-0.07743064,  0.01619993, -0.49304842,  0.34086635,  0.17653421,\n",
       "        -0.15082924,  0.172308  ,  0.11471331, -0.04411786, -0.2280905 ,\n",
       "        -0.39428818, -0.22215404, -0.05267247,  0.66405421,  0.40689466,\n",
       "         0.23735982,  0.27275288,  0.00926147, -0.00926147, -0.02847766,\n",
       "         0.08811532, -0.0512547 , -0.71292018,  0.04915705,  1.45424052,\n",
       "         0.00682676]])"
      ]
     },
     "execution_count": 37,
     "metadata": {},
     "output_type": "execute_result"
    }
   ],
   "source": [
    "logistic_credit.coef_"
   ]
  },
  {
   "cell_type": "code",
   "execution_count": 40,
   "id": "f0183ff9",
   "metadata": {},
   "outputs": [
    {
     "data": {
      "text/plain": [
       "array([0, 0, 0, ..., 0, 0, 1], dtype=int64)"
      ]
     },
     "execution_count": 40,
     "metadata": {},
     "output_type": "execute_result"
    }
   ],
   "source": [
    "predicao = logistic_credit.predict(X_credit_test)\n",
    "predicao"
   ]
  },
  {
   "cell_type": "code",
   "execution_count": 41,
   "id": "29f94097",
   "metadata": {},
   "outputs": [
    {
     "data": {
      "text/plain": [
       "array([[0, 0, 0, ..., 0, 0, 1]], dtype=int64)"
      ]
     },
     "execution_count": 41,
     "metadata": {},
     "output_type": "execute_result"
    }
   ],
   "source": [
    "y_credit_test.reshape(1, -1)"
   ]
  },
  {
   "cell_type": "code",
   "execution_count": 43,
   "id": "e6c83dc9",
   "metadata": {},
   "outputs": [
    {
     "data": {
      "text/plain": [
       "0.871961698993371"
      ]
     },
     "execution_count": 43,
     "metadata": {},
     "output_type": "execute_result"
    }
   ],
   "source": [
    "#Acurácia\n",
    "logistic_acc = accuracy_score(y_credit_test, predicao)\n",
    "logistic_acc"
   ]
  },
  {
   "cell_type": "code",
   "execution_count": 44,
   "id": "3cd93332",
   "metadata": {},
   "outputs": [
    {
     "data": {
      "text/plain": [
       "0.871961698993371"
      ]
     },
     "execution_count": 44,
     "metadata": {},
     "output_type": "execute_result"
    },
    {
     "data": {
      "image/png": "[encoded data removed]",
      "text/plain": [
       "<Figure size 432x288 with 1 Axes>"
      ]
     },
     "metadata": {
      "needs_background": "light"
     },
     "output_type": "display_data"
    }
   ],
   "source": [
    "#Matriz de Confusão\n",
    "cm = ConfusionMatrix(logistic_credit)\n",
    "cm.fit(X_credit_train, y_credit_train)\n",
    "cm.score(X_credit_test, y_credit_test)"
   ]
  },
  {
   "cell_type": "code",
   "execution_count": 46,
   "id": "6efdb86b",
   "metadata": {},
   "outputs": [
    {
     "name": "stdout",
     "output_type": "stream",
     "text": [
      "              precision    recall  f1-score   support\n",
      "\n",
      "           0       0.90      0.95      0.92      6482\n",
      "           1       0.74      0.58      0.65      1664\n",
      "\n",
      "    accuracy                           0.87      8146\n",
      "   macro avg       0.82      0.76      0.78      8146\n",
      "weighted avg       0.86      0.87      0.87      8146\n",
      "\n"
     ]
    }
   ],
   "source": [
    "# Relatório de Classificação\n",
    "logistic = classification_report(y_credit_test, predicao)\n",
    "print(logistic)"
   ]
  },
  {
   "cell_type": "markdown",
   "id": "f07baf57",
   "metadata": {},
   "source": [
    "### SVM"
   ]
  },
  {
   "cell_type": "code",
   "execution_count": 49,
   "id": "d27a5392",
   "metadata": {},
   "outputs": [
    {
     "data": {
      "text/plain": [
       "SVC(random_state=0)"
      ]
     },
     "execution_count": 49,
     "metadata": {},
     "output_type": "execute_result"
    }
   ],
   "source": [
    "svm_credit = SVC(random_state=0)\n",
    "svm_credit.fit(X_credit_train, y_credit_train)"
   ]
  },
  {
   "cell_type": "code",
   "execution_count": 51,
   "id": "c8db73b8",
   "metadata": {},
   "outputs": [
    {
     "data": {
      "text/plain": [
       "array([0, 0, 0, ..., 0, 0, 1], dtype=int64)"
      ]
     },
     "execution_count": 51,
     "metadata": {},
     "output_type": "execute_result"
    }
   ],
   "source": [
    "predicao = logistic_credit.predict(X_credit_test)\n",
    "predicao"
   ]
  },
  {
   "cell_type": "code",
   "execution_count": 52,
   "id": "a7c1ad90",
   "metadata": {},
   "outputs": [
    {
     "data": {
      "text/plain": [
       "array([[0, 0, 0, ..., 0, 0, 1]], dtype=int64)"
      ]
     },
     "execution_count": 52,
     "metadata": {},
     "output_type": "execute_result"
    }
   ],
   "source": [
    "y_credit_test.reshape(1, -1)"
   ]
  },
  {
   "cell_type": "code",
   "execution_count": 54,
   "id": "2a70e53f",
   "metadata": {},
   "outputs": [
    {
     "data": {
      "text/plain": [
       "0.871961698993371"
      ]
     },
     "execution_count": 54,
     "metadata": {},
     "output_type": "execute_result"
    }
   ],
   "source": [
    "#Acurácia\n",
    "svm_acc = accuracy_score(y_credit_test, predicao)\n",
    "svm_acc"
   ]
  },
  {
   "cell_type": "code",
   "execution_count": 55,
   "id": "d9366cd4",
   "metadata": {},
   "outputs": [
    {
     "data": {
      "text/plain": [
       "0.871961698993371"
      ]
     },
     "execution_count": 55,
     "metadata": {},
     "output_type": "execute_result"
    },
    {
     "data": {
      "image/png": "[encoded data removed]",
      "text/plain": [
       "<Figure size 432x288 with 1 Axes>"
      ]
     },
     "metadata": {
      "needs_background": "light"
     },
     "output_type": "display_data"
    }
   ],
   "source": [
    "#Matriz de Confusão\n",
    "cm = ConfusionMatrix(logistic_credit)\n",
    "cm.fit(X_credit_train, y_credit_train)\n",
    "cm.score(X_credit_test, y_credit_test)"
   ]
  },
  {
   "cell_type": "code",
   "execution_count": 56,
   "id": "ed46375e",
   "metadata": {},
   "outputs": [
    {
     "name": "stdout",
     "output_type": "stream",
     "text": [
      "              precision    recall  f1-score   support\n",
      "\n",
      "           0       0.90      0.95      0.92      6482\n",
      "           1       0.74      0.58      0.65      1664\n",
      "\n",
      "    accuracy                           0.87      8146\n",
      "   macro avg       0.82      0.76      0.78      8146\n",
      "weighted avg       0.86      0.87      0.87      8146\n",
      "\n"
     ]
    }
   ],
   "source": [
    "#Relatório de Classificação\n",
    "svm = classification_report(y_credit_test, predicao)\n",
    "print(svm)"
   ]
  },
  {
   "cell_type": "markdown",
   "id": "a414a41c",
   "metadata": {},
   "source": [
    "### Redes Neurais"
   ]
  },
  {
   "cell_type": "code",
   "execution_count": 66,
   "id": "c483dec1",
   "metadata": {},
   "outputs": [
    {
     "name": "stdout",
     "output_type": "stream",
     "text": [
      "Iteration 1, loss = 0.35391414\n",
      "Iteration 2, loss = 0.28350098\n",
      "Iteration 3, loss = 0.26561120\n",
      "Iteration 4, loss = 0.25582684\n",
      "Iteration 5, loss = 0.24932167\n",
      "Iteration 6, loss = 0.24230782\n",
      "Iteration 7, loss = 0.23808457\n",
      "Iteration 8, loss = 0.23270674\n",
      "Iteration 9, loss = 0.22997608\n",
      "Iteration 10, loss = 0.22695652\n",
      "Iteration 11, loss = 0.22340587\n",
      "Iteration 12, loss = 0.22118346\n",
      "Iteration 13, loss = 0.21809218\n",
      "Iteration 14, loss = 0.21650512\n",
      "Iteration 15, loss = 0.21386354\n",
      "Iteration 16, loss = 0.21135894\n",
      "Iteration 17, loss = 0.21092174\n",
      "Iteration 18, loss = 0.20685942\n",
      "Iteration 19, loss = 0.20658393\n",
      "Iteration 20, loss = 0.20427468\n",
      "Iteration 21, loss = 0.20281830\n",
      "Iteration 22, loss = 0.20082439\n",
      "Iteration 23, loss = 0.19910079\n",
      "Iteration 24, loss = 0.19903663\n",
      "Iteration 25, loss = 0.19620817\n",
      "Iteration 26, loss = 0.19582193\n",
      "Iteration 27, loss = 0.19303383\n",
      "Iteration 28, loss = 0.19076106\n",
      "Iteration 29, loss = 0.19130067\n",
      "Iteration 30, loss = 0.19156473\n",
      "Iteration 31, loss = 0.18764528\n",
      "Iteration 32, loss = 0.18713562\n",
      "Iteration 33, loss = 0.18512497\n",
      "Iteration 34, loss = 0.18482986\n",
      "Iteration 35, loss = 0.18242294\n",
      "Iteration 36, loss = 0.18169032\n",
      "Iteration 37, loss = 0.18103960\n",
      "Iteration 38, loss = 0.18193417\n",
      "Iteration 39, loss = 0.17749501\n",
      "Iteration 40, loss = 0.17697035\n",
      "Iteration 41, loss = 0.17464490\n",
      "Iteration 42, loss = 0.17706953\n",
      "Iteration 43, loss = 0.17513708\n",
      "Iteration 44, loss = 0.17234903\n",
      "Iteration 45, loss = 0.16885282\n",
      "Iteration 46, loss = 0.17038933\n",
      "Iteration 47, loss = 0.16859943\n",
      "Iteration 48, loss = 0.16985713\n",
      "Iteration 49, loss = 0.16697605\n",
      "Iteration 50, loss = 0.16465637\n",
      "Iteration 51, loss = 0.16401531\n",
      "Iteration 52, loss = 0.16289786\n",
      "Iteration 53, loss = 0.16387800\n",
      "Iteration 54, loss = 0.16275528\n",
      "Iteration 55, loss = 0.16065316\n",
      "Iteration 56, loss = 0.15875128\n",
      "Iteration 57, loss = 0.15859260\n",
      "Iteration 58, loss = 0.15699220\n",
      "Iteration 59, loss = 0.15595347\n",
      "Iteration 60, loss = 0.15380697\n",
      "Iteration 61, loss = 0.15432131\n",
      "Iteration 62, loss = 0.15402320\n",
      "Iteration 63, loss = 0.15230297\n",
      "Iteration 64, loss = 0.15084773\n",
      "Iteration 65, loss = 0.15057831\n",
      "Iteration 66, loss = 0.14918451\n",
      "Iteration 67, loss = 0.14772883\n",
      "Iteration 68, loss = 0.14754448\n",
      "Iteration 69, loss = 0.14634718\n",
      "Iteration 70, loss = 0.14547831\n",
      "Iteration 71, loss = 0.14467716\n",
      "Iteration 72, loss = 0.14536872\n",
      "Iteration 73, loss = 0.14460234\n",
      "Iteration 74, loss = 0.14099630\n",
      "Iteration 75, loss = 0.14262615\n",
      "Iteration 76, loss = 0.14061143\n",
      "Iteration 77, loss = 0.13967135\n",
      "Iteration 78, loss = 0.13941402\n",
      "Iteration 79, loss = 0.13901734\n",
      "Iteration 80, loss = 0.13650449\n",
      "Iteration 81, loss = 0.13546887\n",
      "Iteration 82, loss = 0.13457366\n",
      "Iteration 83, loss = 0.13233306\n",
      "Iteration 84, loss = 0.13608640\n",
      "Iteration 85, loss = 0.13145296\n",
      "Iteration 86, loss = 0.13121591\n",
      "Iteration 87, loss = 0.13090199\n",
      "Iteration 88, loss = 0.13148026\n",
      "Iteration 89, loss = 0.13056457\n",
      "Iteration 90, loss = 0.13028908\n",
      "Iteration 91, loss = 0.12861055\n",
      "Iteration 92, loss = 0.12484367\n",
      "Iteration 93, loss = 0.12615349\n",
      "Iteration 94, loss = 0.12682032\n",
      "Iteration 95, loss = 0.12513839\n",
      "Iteration 96, loss = 0.12489065\n",
      "Iteration 97, loss = 0.12429260\n",
      "Iteration 98, loss = 0.12340270\n",
      "Iteration 99, loss = 0.12340206\n",
      "Iteration 100, loss = 0.12205086\n",
      "Iteration 101, loss = 0.12007745\n",
      "Iteration 102, loss = 0.11735344\n",
      "Iteration 103, loss = 0.12063389\n",
      "Iteration 104, loss = 0.11645679\n",
      "Iteration 105, loss = 0.11853934\n",
      "Iteration 106, loss = 0.11693915\n",
      "Iteration 107, loss = 0.11489920\n",
      "Iteration 108, loss = 0.11395004\n",
      "Iteration 109, loss = 0.11514066\n",
      "Iteration 110, loss = 0.11179522\n",
      "Iteration 111, loss = 0.11411518\n",
      "Iteration 112, loss = 0.11180260\n",
      "Iteration 113, loss = 0.11368701\n",
      "Iteration 114, loss = 0.11285595\n",
      "Iteration 115, loss = 0.10781657\n",
      "Iteration 116, loss = 0.10985500\n",
      "Iteration 117, loss = 0.10957053\n",
      "Iteration 118, loss = 0.10826169\n",
      "Iteration 119, loss = 0.10606535\n",
      "Iteration 120, loss = 0.10956684\n",
      "Iteration 121, loss = 0.10484003\n",
      "Iteration 122, loss = 0.10589996\n",
      "Iteration 123, loss = 0.10516438\n",
      "Iteration 124, loss = 0.10400963\n",
      "Iteration 125, loss = 0.10433681\n",
      "Iteration 126, loss = 0.10226527\n",
      "Iteration 127, loss = 0.10119611\n",
      "Iteration 128, loss = 0.10476879\n",
      "Iteration 129, loss = 0.10065793\n",
      "Iteration 130, loss = 0.10155489\n",
      "Iteration 131, loss = 0.10134000\n",
      "Iteration 132, loss = 0.09886694\n",
      "Iteration 133, loss = 0.09904723\n",
      "Iteration 134, loss = 0.09917432\n",
      "Iteration 135, loss = 0.09883982\n",
      "Iteration 136, loss = 0.10061668\n",
      "Iteration 137, loss = 0.09551882\n",
      "Iteration 138, loss = 0.09473506\n",
      "Iteration 139, loss = 0.09393949\n",
      "Iteration 140, loss = 0.09512395\n",
      "Iteration 141, loss = 0.09288864\n",
      "Iteration 142, loss = 0.09417571\n",
      "Iteration 143, loss = 0.09300002\n",
      "Iteration 144, loss = 0.09272943\n",
      "Iteration 145, loss = 0.09279689\n",
      "Iteration 146, loss = 0.09201652\n",
      "Iteration 147, loss = 0.09388139\n",
      "Iteration 148, loss = 0.08991293\n",
      "Iteration 149, loss = 0.08997338\n",
      "Iteration 150, loss = 0.08852454\n",
      "Iteration 151, loss = 0.09023075\n",
      "Iteration 152, loss = 0.09026323\n",
      "Iteration 153, loss = 0.08966965\n",
      "Iteration 154, loss = 0.08783672\n",
      "Iteration 155, loss = 0.08356691\n",
      "Iteration 156, loss = 0.08277043\n",
      "Iteration 157, loss = 0.08286679\n",
      "Iteration 158, loss = 0.08334012\n",
      "Iteration 159, loss = 0.08517448\n",
      "Iteration 160, loss = 0.08327501\n",
      "Iteration 161, loss = 0.08239469\n",
      "Iteration 162, loss = 0.08591176\n",
      "Iteration 163, loss = 0.08062103\n",
      "Iteration 164, loss = 0.08287682\n",
      "Iteration 165, loss = 0.08063952\n",
      "Iteration 166, loss = 0.08082846\n",
      "Iteration 167, loss = 0.07805406\n",
      "Iteration 168, loss = 0.08056467\n",
      "Iteration 169, loss = 0.07846512\n",
      "Iteration 170, loss = 0.07813425\n",
      "Iteration 171, loss = 0.08935031\n",
      "Iteration 172, loss = 0.07795255\n",
      "Iteration 173, loss = 0.08050555\n",
      "Iteration 174, loss = 0.07771546\n",
      "Iteration 175, loss = 0.07659627\n",
      "Iteration 176, loss = 0.07350633\n",
      "Iteration 177, loss = 0.07631655\n",
      "Iteration 178, loss = 0.08023288\n",
      "Iteration 179, loss = 0.07706190\n",
      "Iteration 180, loss = 0.07655855\n",
      "Iteration 181, loss = 0.07860913\n",
      "Iteration 182, loss = 0.07604021\n",
      "Iteration 183, loss = 0.07138549\n",
      "Iteration 184, loss = 0.06951158\n",
      "Iteration 185, loss = 0.07112573\n",
      "Iteration 186, loss = 0.07137487\n",
      "Iteration 187, loss = 0.07188519\n",
      "Iteration 188, loss = 0.07149935\n",
      "Iteration 189, loss = 0.06966333\n",
      "Iteration 190, loss = 0.07240874\n",
      "Iteration 191, loss = 0.07025453\n",
      "Iteration 192, loss = 0.06807882\n",
      "Iteration 193, loss = 0.06962773\n",
      "Iteration 194, loss = 0.07069614\n",
      "Iteration 195, loss = 0.07018659\n",
      "Iteration 196, loss = 0.06890750\n",
      "Iteration 197, loss = 0.06813574\n",
      "Iteration 198, loss = 0.06654297\n",
      "Iteration 199, loss = 0.06710539\n",
      "Iteration 200, loss = 0.07101647\n",
      "Iteration 201, loss = 0.06671636\n",
      "Iteration 202, loss = 0.06458814\n",
      "Iteration 203, loss = 0.06484992\n",
      "Iteration 204, loss = 0.06452530\n",
      "Iteration 205, loss = 0.06656756\n",
      "Iteration 206, loss = 0.06423781\n",
      "Iteration 207, loss = 0.06801176\n",
      "Iteration 208, loss = 0.06254217\n",
      "Iteration 209, loss = 0.06841789\n",
      "Iteration 210, loss = 0.06286667\n",
      "Iteration 211, loss = 0.06314151\n",
      "Iteration 212, loss = 0.06234416\n",
      "Iteration 213, loss = 0.06270996\n",
      "Iteration 214, loss = 0.05998775\n",
      "Iteration 215, loss = 0.05897108\n",
      "Iteration 216, loss = 0.06031853\n",
      "Iteration 217, loss = 0.06174651\n",
      "Iteration 218, loss = 0.05862482\n",
      "Iteration 219, loss = 0.05884832\n",
      "Iteration 220, loss = 0.06080088\n",
      "Iteration 221, loss = 0.06106975\n",
      "Iteration 222, loss = 0.05984329\n",
      "Iteration 223, loss = 0.06268391\n",
      "Iteration 224, loss = 0.06170674\n",
      "Iteration 225, loss = 0.06576459\n",
      "Iteration 226, loss = 0.05986912\n",
      "Iteration 227, loss = 0.05457024\n",
      "Iteration 228, loss = 0.05625502\n",
      "Iteration 229, loss = 0.05507747\n",
      "Iteration 230, loss = 0.06151468\n",
      "Iteration 231, loss = 0.05562511\n",
      "Iteration 232, loss = 0.05632166\n",
      "Iteration 233, loss = 0.05281517\n",
      "Iteration 234, loss = 0.05817672\n",
      "Iteration 235, loss = 0.05576328\n",
      "Iteration 236, loss = 0.05835159\n",
      "Iteration 237, loss = 0.05255082\n",
      "Iteration 238, loss = 0.05275403\n",
      "Iteration 239, loss = 0.05348596\n",
      "Iteration 240, loss = 0.05552329\n",
      "Iteration 241, loss = 0.05389090\n",
      "Iteration 242, loss = 0.05345490\n",
      "Iteration 243, loss = 0.05535984\n",
      "Iteration 244, loss = 0.05421840\n",
      "Iteration 245, loss = 0.04954772\n",
      "Iteration 246, loss = 0.05091141\n",
      "Iteration 247, loss = 0.05381797\n",
      "Iteration 248, loss = 0.05358722\n",
      "Iteration 249, loss = 0.05140109\n",
      "Iteration 250, loss = 0.05132711\n",
      "Iteration 251, loss = 0.04823958\n",
      "Iteration 252, loss = 0.04671230\n"
     ]
    },
    {
     "name": "stdout",
     "output_type": "stream",
     "text": [
      "Iteration 253, loss = 0.05307614\n",
      "Iteration 254, loss = 0.04858621\n",
      "Iteration 255, loss = 0.05089656\n",
      "Iteration 256, loss = 0.05302635\n",
      "Iteration 257, loss = 0.05595394\n",
      "Iteration 258, loss = 0.05500721\n",
      "Iteration 259, loss = 0.05088064\n",
      "Iteration 260, loss = 0.05747771\n",
      "Iteration 261, loss = 0.05276307\n",
      "Iteration 262, loss = 0.05508775\n",
      "Iteration 263, loss = 0.04695039\n",
      "Training loss did not improve more than tol=0.000001 for 10 consecutive epochs. Stopping.\n"
     ]
    },
    {
     "data": {
      "text/plain": [
       "MLPClassifier(hidden_layer_sizes=(140, 140), max_iter=1500, tol=1e-06,\n",
       "              verbose=True)"
      ]
     },
     "execution_count": 66,
     "metadata": {},
     "output_type": "execute_result"
    }
   ],
   "source": [
    "redes_neurais_credit = MLPClassifier(max_iter=1500, verbose=True, tol=0.000001, solver='adam', activation = 'relu', \\\n",
    "                                     hidden_layer_sizes=(140,140))\n",
    "redes_neurais_credit.fit(X_credit_train, y_credit_train)"
   ]
  },
  {
   "cell_type": "code",
   "execution_count": 68,
   "id": "67cda203",
   "metadata": {},
   "outputs": [
    {
     "data": {
      "text/plain": [
       "array([0, 0, 0, ..., 1, 0, 1], dtype=int64)"
      ]
     },
     "execution_count": 68,
     "metadata": {},
     "output_type": "execute_result"
    }
   ],
   "source": [
    "predicao = redes_neurais_credit.predict(X_credit_test)\n",
    "predicao"
   ]
  },
  {
   "cell_type": "code",
   "execution_count": 69,
   "id": "015abdc8",
   "metadata": {},
   "outputs": [
    {
     "data": {
      "text/plain": [
       "array([[0, 0, 0, ..., 0, 0, 1]], dtype=int64)"
      ]
     },
     "execution_count": 69,
     "metadata": {},
     "output_type": "execute_result"
    }
   ],
   "source": [
    "y_credit_test.reshape(1, -1)"
   ]
  },
  {
   "cell_type": "code",
   "execution_count": 70,
   "id": "98de39f0",
   "metadata": {},
   "outputs": [
    {
     "data": {
      "text/plain": [
       "0.9004419346918733"
      ]
     },
     "execution_count": 70,
     "metadata": {},
     "output_type": "execute_result"
    }
   ],
   "source": [
    "#Acurácia\n",
    "redes_neurais_acc = accuracy_score(y_credit_test, predicao)\n",
    "redes_neurais_acc"
   ]
  },
  {
   "cell_type": "code",
   "execution_count": 71,
   "id": "035f11ee",
   "metadata": {},
   "outputs": [
    {
     "data": {
      "text/plain": [
       "0.9004419346918733"
      ]
     },
     "execution_count": 71,
     "metadata": {},
     "output_type": "execute_result"
    },
    {
     "data": {
      "image/png": "[encoded data removed]",
      "text/plain": [
       "<Figure size 432x288 with 1 Axes>"
      ]
     },
     "metadata": {
      "needs_background": "light"
     },
     "output_type": "display_data"
    }
   ],
   "source": [
    "#Matriz de Confusão\n",
    "cm = ConfusionMatrix(redes_neurais_credit)\n",
    "cm.fit(X_credit_train, y_credit_train)\n",
    "cm.score(X_credit_test, y_credit_test)"
   ]
  },
  {
   "cell_type": "code",
   "execution_count": 72,
   "id": "46787d12",
   "metadata": {},
   "outputs": [
    {
     "name": "stdout",
     "output_type": "stream",
     "text": [
      "              precision    recall  f1-score   support\n",
      "\n",
      "           0       0.93      0.95      0.94      6482\n",
      "           1       0.77      0.72      0.75      1664\n",
      "\n",
      "    accuracy                           0.90      8146\n",
      "   macro avg       0.85      0.83      0.84      8146\n",
      "weighted avg       0.90      0.90      0.90      8146\n",
      "\n"
     ]
    }
   ],
   "source": [
    "#Relatório de Classificação\n",
    "redes_neurais = classification_report(y_credit_test, predicao)\n",
    "print(redes_neurais)"
   ]
  },
  {
   "cell_type": "markdown",
   "id": "23c02023",
   "metadata": {},
   "source": [
    "# Avaliação dos Algoritmos"
   ]
  },
  {
   "cell_type": "markdown",
   "id": "a2f8ea5f",
   "metadata": {},
   "source": [
    "## Naïve Bayes"
   ]
  },
  {
   "cell_type": "code",
   "execution_count": 75,
   "id": "f10ab363",
   "metadata": {},
   "outputs": [
    {
     "data": {
      "text/plain": [
       "0.8399214338325559"
      ]
     },
     "execution_count": 75,
     "metadata": {},
     "output_type": "execute_result"
    }
   ],
   "source": [
    "naive_acc"
   ]
  },
  {
   "cell_type": "code",
   "execution_count": 76,
   "id": "b80dce0f",
   "metadata": {
    "collapsed": true
   },
   "outputs": [
    {
     "name": "stdout",
     "output_type": "stream",
     "text": [
      "              precision    recall  f1-score   support\n",
      "\n",
      "           0       0.87      0.94      0.90      6482\n",
      "           1       0.65      0.46      0.54      1664\n",
      "\n",
      "    accuracy                           0.84      8146\n",
      "   macro avg       0.76      0.70      0.72      8146\n",
      "weighted avg       0.83      0.84      0.83      8146\n",
      "\n"
     ]
    }
   ],
   "source": [
    "print(naive)"
   ]
  },
  {
   "cell_type": "markdown",
   "id": "79f60340",
   "metadata": {},
   "source": [
    "## Decision Tree"
   ]
  },
  {
   "cell_type": "code",
   "execution_count": 77,
   "id": "5d180c13",
   "metadata": {},
   "outputs": [
    {
     "data": {
      "text/plain": [
       "0.8934446354038792"
      ]
     },
     "execution_count": 77,
     "metadata": {},
     "output_type": "execute_result"
    }
   ],
   "source": [
    "tree_acc"
   ]
  },
  {
   "cell_type": "code",
   "execution_count": 78,
   "id": "f20731b0",
   "metadata": {
    "collapsed": true
   },
   "outputs": [
    {
     "name": "stdout",
     "output_type": "stream",
     "text": [
      "              precision    recall  f1-score   support\n",
      "\n",
      "           0       0.94      0.93      0.93      6482\n",
      "           1       0.73      0.76      0.74      1664\n",
      "\n",
      "    accuracy                           0.89      8146\n",
      "   macro avg       0.83      0.84      0.84      8146\n",
      "weighted avg       0.89      0.89      0.89      8146\n",
      "\n"
     ]
    }
   ],
   "source": [
    "print(tree)"
   ]
  },
  {
   "cell_type": "markdown",
   "id": "d5ce52bc",
   "metadata": {},
   "source": [
    "## Random Forest"
   ]
  },
  {
   "cell_type": "code",
   "execution_count": 79,
   "id": "27e0f763",
   "metadata": {},
   "outputs": [
    {
     "data": {
      "text/plain": [
       "0.9330959980358459"
      ]
     },
     "execution_count": 79,
     "metadata": {},
     "output_type": "execute_result"
    }
   ],
   "source": [
    "forest_acc"
   ]
  },
  {
   "cell_type": "code",
   "execution_count": 80,
   "id": "8c7298e3",
   "metadata": {
    "collapsed": true
   },
   "outputs": [
    {
     "name": "stdout",
     "output_type": "stream",
     "text": [
      "              precision    recall  f1-score   support\n",
      "\n",
      "           0       0.93      0.99      0.96      6482\n",
      "           1       0.96      0.70      0.81      1664\n",
      "\n",
      "    accuracy                           0.93      8146\n",
      "   macro avg       0.94      0.85      0.89      8146\n",
      "weighted avg       0.93      0.93      0.93      8146\n",
      "\n"
     ]
    }
   ],
   "source": [
    "print(forest)"
   ]
  },
  {
   "cell_type": "markdown",
   "id": "02de2ff1",
   "metadata": {},
   "source": [
    "## Knn"
   ]
  },
  {
   "cell_type": "code",
   "execution_count": 81,
   "id": "19fdacb9",
   "metadata": {},
   "outputs": [
    {
     "data": {
      "text/plain": [
       "0.8957770684998773"
      ]
     },
     "execution_count": 81,
     "metadata": {},
     "output_type": "execute_result"
    }
   ],
   "source": [
    "knn_acc"
   ]
  },
  {
   "cell_type": "code",
   "execution_count": 82,
   "id": "882f91a2",
   "metadata": {
    "collapsed": true
   },
   "outputs": [
    {
     "name": "stdout",
     "output_type": "stream",
     "text": [
      "              precision    recall  f1-score   support\n",
      "\n",
      "           0       0.90      0.97      0.94      6482\n",
      "           1       0.85      0.60      0.70      1664\n",
      "\n",
      "    accuracy                           0.90      8146\n",
      "   macro avg       0.87      0.79      0.82      8146\n",
      "weighted avg       0.89      0.90      0.89      8146\n",
      "\n"
     ]
    }
   ],
   "source": [
    "print(knn)"
   ]
  },
  {
   "cell_type": "markdown",
   "id": "1835df0f",
   "metadata": {},
   "source": [
    "## Logistic Regression"
   ]
  },
  {
   "cell_type": "code",
   "execution_count": 83,
   "id": "e9772fd0",
   "metadata": {},
   "outputs": [
    {
     "data": {
      "text/plain": [
       "0.871961698993371"
      ]
     },
     "execution_count": 83,
     "metadata": {},
     "output_type": "execute_result"
    }
   ],
   "source": [
    "logistic_acc"
   ]
  },
  {
   "cell_type": "code",
   "execution_count": 84,
   "id": "df69579f",
   "metadata": {
    "collapsed": true
   },
   "outputs": [
    {
     "name": "stdout",
     "output_type": "stream",
     "text": [
      "              precision    recall  f1-score   support\n",
      "\n",
      "           0       0.90      0.95      0.92      6482\n",
      "           1       0.74      0.58      0.65      1664\n",
      "\n",
      "    accuracy                           0.87      8146\n",
      "   macro avg       0.82      0.76      0.78      8146\n",
      "weighted avg       0.86      0.87      0.87      8146\n",
      "\n"
     ]
    }
   ],
   "source": [
    "print(logistic)"
   ]
  },
  {
   "cell_type": "markdown",
   "id": "bac0fdfc",
   "metadata": {},
   "source": [
    "## SVM"
   ]
  },
  {
   "cell_type": "code",
   "execution_count": 85,
   "id": "2cd12ed6",
   "metadata": {},
   "outputs": [
    {
     "data": {
      "text/plain": [
       "0.871961698993371"
      ]
     },
     "execution_count": 85,
     "metadata": {},
     "output_type": "execute_result"
    }
   ],
   "source": [
    "svm_acc"
   ]
  },
  {
   "cell_type": "code",
   "execution_count": 86,
   "id": "120b77ad",
   "metadata": {
    "collapsed": true
   },
   "outputs": [
    {
     "name": "stdout",
     "output_type": "stream",
     "text": [
      "              precision    recall  f1-score   support\n",
      "\n",
      "           0       0.90      0.95      0.92      6482\n",
      "           1       0.74      0.58      0.65      1664\n",
      "\n",
      "    accuracy                           0.87      8146\n",
      "   macro avg       0.82      0.76      0.78      8146\n",
      "weighted avg       0.86      0.87      0.87      8146\n",
      "\n"
     ]
    }
   ],
   "source": [
    "print(svm)"
   ]
  },
  {
   "cell_type": "markdown",
   "id": "5d640cf5",
   "metadata": {},
   "source": [
    "## Redes Neurais"
   ]
  },
  {
   "cell_type": "code",
   "execution_count": 87,
   "id": "97bd28c1",
   "metadata": {},
   "outputs": [
    {
     "data": {
      "text/plain": [
       "0.9004419346918733"
      ]
     },
     "execution_count": 87,
     "metadata": {},
     "output_type": "execute_result"
    }
   ],
   "source": [
    "redes_neurais_acc"
   ]
  },
  {
   "cell_type": "code",
   "execution_count": 88,
   "id": "8249c18f",
   "metadata": {
    "collapsed": true
   },
   "outputs": [
    {
     "name": "stdout",
     "output_type": "stream",
     "text": [
      "              precision    recall  f1-score   support\n",
      "\n",
      "           0       0.93      0.95      0.94      6482\n",
      "           1       0.77      0.72      0.75      1664\n",
      "\n",
      "    accuracy                           0.90      8146\n",
      "   macro avg       0.85      0.83      0.84      8146\n",
      "weighted avg       0.90      0.90      0.90      8146\n",
      "\n"
     ]
    }
   ],
   "source": [
    "print(redes_neurais)"
   ]
  }
 ],
 "metadata": {
  "kernelspec": {
   "display_name": "Python 3",
   "language": "python",
   "name": "python3"
  },
  "language_info": {
   "codemirror_mode": {
    "name": "ipython",
    "version": 3
   },
   "file_extension": ".py",
   "mimetype": "text/x-python",
   "name": "python",
   "nbconvert_exporter": "python",
   "pygments_lexer": "ipython3",
   "version": "3.8.11"
  }
 },
 "nbformat": 4,
 "nbformat_minor": 5
}
